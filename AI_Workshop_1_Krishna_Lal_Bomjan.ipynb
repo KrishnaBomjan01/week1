{
  "nbformat": 4,
  "nbformat_minor": 0,
  "metadata": {
    "colab": {
      "provenance": []
    },
    "kernelspec": {
      "name": "python3",
      "display_name": "Python 3"
    },
    "language_info": {
      "name": "python"
    }
  },
  "cells": [
    {
      "cell_type": "markdown",
      "source": [
        "# 4.1 Warming Up Exercise: Basic Vector and Matrix Operation with Numpy.\n"
      ],
      "metadata": {
        "id": "b41Mvw7PhgQs"
      }
    },
    {
      "cell_type": "markdown",
      "source": [
        "# Problem - 1: Array Creation:"
      ],
      "metadata": {
        "id": "W-TgOa7bf_-f"
      }
    },
    {
      "cell_type": "code",
      "source": [
        "empty_array = np.empty((2, 2))\n",
        "print(\"Empty Array (2x2): \", empty_array)"
      ],
      "metadata": {
        "id": "upFxyon7fack"
      },
      "execution_count": null,
      "outputs": []
    },
    {
      "cell_type": "markdown",
      "source": [
        "# 2. Initialize an all-one array with size 4X2.\n"
      ],
      "metadata": {
        "id": "h0pnCV9Tf2D9"
      }
    },
    {
      "cell_type": "code",
      "source": [
        "nes_array = np.ones((4, 2))\n",
        "print(\"\\nAll-Ones Array (4x2): \", ones_array)"
      ],
      "metadata": {
        "id": "lrvst9Pif3Uk"
      },
      "execution_count": null,
      "outputs": []
    },
    {
      "cell_type": "markdown",
      "source": [
        "# 3. Return a new array of given shape and type, filled with a fill value.\n"
      ],
      "metadata": {
        "id": "c4mpX0NUgCMb"
      }
    },
    {
      "cell_type": "code",
      "source": [
        "fill_value = 7\n",
        "filled_array = np.full((3, 3), fill_value)\n",
        "print(\"\\nArray Filled with Value 7 (3x3): \", filled_array)"
      ],
      "metadata": {
        "id": "Zbb8IT0pgKzq"
      },
      "execution_count": null,
      "outputs": []
    },
    {
      "cell_type": "markdown",
      "source": [
        "# 4. Return a new array of zeros with the same shape and type as a given array.\n"
      ],
      "metadata": {
        "id": "_dhtuGWagSKN"
      }
    },
    {
      "cell_type": "code",
      "source": [
        "reference_array = np.array([[1, 2, 3], [4, 5, 6]])\n",
        "zeros_like_array = np.zeros_like(reference_array)\n",
        "print(\"\\nZeros Array with Same Shape as Reference Array: \", zeros_like_array)"
      ],
      "metadata": {
        "id": "31byKNKzgVNS"
      },
      "execution_count": null,
      "outputs": []
    },
    {
      "cell_type": "markdown",
      "source": [
        "# 5. Return a new array of ones with the same shape and type as a given array.\n"
      ],
      "metadata": {
        "id": "GVTVIK2RgbJE"
      }
    },
    {
      "cell_type": "code",
      "source": [
        "ones_like_array = np.ones_like(reference_array)\n",
        "print(\"\\nOnes Array with Same Shape as Reference Array: \", ones_like_array)"
      ],
      "metadata": {
        "id": "-mVp4u5eggJh"
      },
      "execution_count": null,
      "outputs": []
    },
    {
      "cell_type": "markdown",
      "source": [
        "# 6. For an existing list, convert it to a NumPy array.\n"
      ],
      "metadata": {
        "id": "hgPYsO3shKuP"
      }
    },
    {
      "cell_type": "code",
      "source": [
        "new_list = [1, 2, 3, 4]\n",
        "numpy_array = np.array(new_list)\n",
        "print(\"\\nConverted List to NumPy Array: \", numpy_array)"
      ],
      "metadata": {
        "id": "wsfbteFQhNgZ"
      },
      "execution_count": null,
      "outputs": []
    },
    {
      "cell_type": "markdown",
      "source": [
        "# 4.1.1 Problem - 2: Array Manipulation: Numerical Ranges and Array indexing:\n",
        "# Complete the following tasks:\n",
        "\n"
      ],
      "metadata": {
        "id": "ey0k7iLhiCVg"
      }
    },
    {
      "cell_type": "markdown",
      "source": [
        "# 1. Create an array with values ranging from 10 to 49.\n"
      ],
      "metadata": {
        "id": "n3-CZT-iiMdg"
      }
    },
    {
      "cell_type": "code",
      "source": [
        "array_range = np.arange(10, 50)\n",
        "print(\"Array with values ranging from 10 to 49:\\n\", array_range)"
      ],
      "metadata": {
        "id": "jPB4brhiiNyt"
      },
      "execution_count": null,
      "outputs": []
    },
    {
      "cell_type": "markdown",
      "source": [
        "# 2. Create a 3X3 matrix with values ranging from 0 to 8.\n"
      ],
      "metadata": {
        "id": "tZxkTcEDiSOd"
      }
    },
    {
      "cell_type": "code",
      "source": [
        "matrix_3x3 = np.arange(9).reshape(3, 3)\n",
        "print(\"\\n3x3 Matrix with values ranging from 0 to 8:\\n\", matrix_3x3)\n"
      ],
      "metadata": {
        "id": "9Juweq8KiUdf"
      },
      "execution_count": null,
      "outputs": []
    },
    {
      "cell_type": "markdown",
      "source": [
        "# 3. Create a 3X3 identity matrix.\n"
      ],
      "metadata": {
        "id": "-ZflIX2jibQR"
      }
    },
    {
      "cell_type": "code",
      "source": [
        "identity_matrix = np.eye(3)\n",
        "print(\"\\n3x3 Identity Matrix:\\n\", identity_matrix)"
      ],
      "metadata": {
        "id": "DpoZIlYDid0K"
      },
      "execution_count": null,
      "outputs": []
    },
    {
      "cell_type": "markdown",
      "source": [
        "# 4. Create a random array of size 30 and find the mean of the array.\n"
      ],
      "metadata": {
        "id": "SRWYxPcXi3-m"
      }
    },
    {
      "cell_type": "code",
      "source": [
        "random_array = np.random.random(30)\n",
        "mean_value = random_array.mean()\n",
        "print(\"\\nRandom Array of Size 30:\\n\", random_array)\n",
        "print(\"Mean of the Random Array:\", mean_value)"
      ],
      "metadata": {
        "id": "pakVeI_Qi9tv"
      },
      "execution_count": null,
      "outputs": []
    },
    {
      "cell_type": "markdown",
      "source": [
        "# 5. Create a 10X10 array with random values and find the minimum and maximum values.\n"
      ],
      "metadata": {
        "id": "incj7DUPjArE"
      }
    },
    {
      "cell_type": "code",
      "source": [
        "random_matrix = np.random.random((10, 10))\n",
        "min_value = random_matrix.min()\n",
        "max_value = random_matrix.max()\n",
        "print(\"\\n10x10 Array with Random Values:\\n\", random_matrix)\n",
        "print(\"Minimum Value:\", min_value)\n",
        "print(\"Maximum Value:\", max_value)"
      ],
      "metadata": {
        "id": "7OUFpmrmjSzw"
      },
      "execution_count": null,
      "outputs": []
    },
    {
      "cell_type": "markdown",
      "source": [
        "# 6. Create a zero array of size 10 and replace the 5th element with 1.\n"
      ],
      "metadata": {
        "id": "s2DA2eiojVpb"
      }
    },
    {
      "cell_type": "code",
      "source": [
        "zero_array = np.zeros(10)\n",
        "zero_array[4] = 1  # Replace 5th element (index 4) with 1\n",
        "print(\"\\nZero Array with 5th Element Replaced by 1:\\n\", zero_array)"
      ],
      "metadata": {
        "id": "DgNTOIFskFBL"
      },
      "execution_count": null,
      "outputs": []
    },
    {
      "cell_type": "markdown",
      "source": [
        "# 7. Reverse an array arr = [1, 2, 0, 0, 4, 0].\n"
      ],
      "metadata": {
        "id": "rM6OGwU3kHyz"
      }
    },
    {
      "cell_type": "code",
      "source": [
        "arr = [1, 2, 0, 0, 4, 0]\n",
        "reversed_array = arr[::-1]\n",
        "print(\"\\nReversed Array:\\n\", reversed_array)"
      ],
      "metadata": {
        "id": "raS53KU7kKaY"
      },
      "execution_count": null,
      "outputs": []
    },
    {
      "cell_type": "markdown",
      "source": [
        "# 8. Create a 2D array with 1 on the border and 0 inside.\n"
      ],
      "metadata": {
        "id": "m1AsNpZWkPQQ"
      }
    },
    {
      "cell_type": "code",
      "source": [
        "border_array = np.ones((5, 5))  # Example size: 5x5\n",
        "border_array[1:-1, 1:-1] = 0\n",
        "print(\"\\n2D Array with 1 on Border and 0 Inside:\\n\", border_array)"
      ],
      "metadata": {
        "id": "puZDsVPlkUfU"
      },
      "execution_count": null,
      "outputs": []
    },
    {
      "cell_type": "markdown",
      "source": [
        "# 9. Create an 8X8 matrix and fill it with a checkerboard pattern.\n"
      ],
      "metadata": {
        "id": "iJG3A-8lkXX4"
      }
    },
    {
      "cell_type": "code",
      "source": [
        "checkerboard = np.zeros((8, 8), dtype=int)\n",
        "checkerboard[1::2, ::2] = 1  # Fill odd rows, even columns\n",
        "checkerboard[::2, 1::2] = 1  # Fill even rows, odd columns\n",
        "print(\"\\n8x8 Checkerboard Pattern:\\n\", checkerboard)"
      ],
      "metadata": {
        "id": "CjSWzD5BkZ38"
      },
      "execution_count": null,
      "outputs": []
    },
    {
      "cell_type": "markdown",
      "source": [
        "# Problem - 3: Array Operations:\n",
        "# For the following arrays:\n",
        "# x = np.array([[1,2],[3,5]]) and y = np.array([[5,6],[7,8]]);\n",
        "# v = np.array([9,10]) and w = np.array([11,12]);\n",
        "# Complete all the task using numpy:"
      ],
      "metadata": {
        "id": "To4yro1Bmhgf"
      }
    },
    {
      "cell_type": "code",
      "source": [
        "import numpy as np"
      ],
      "metadata": {
        "id": "WNIZxWTzmj_p"
      },
      "execution_count": null,
      "outputs": []
    },
    {
      "cell_type": "markdown",
      "source": [
        "# Given arrays\n"
      ],
      "metadata": {
        "id": "AyrqJMjgmksm"
      }
    },
    {
      "cell_type": "code",
      "source": [
        "x = np.array([[1, 2], [3, 5]])\n",
        "y = np.array([[5, 6], [7, 8]])\n",
        "v = np.array([9, 10])\n",
        "w = np.array([11, 12])"
      ],
      "metadata": {
        "id": "V6KcS-dkmpmc"
      },
      "execution_count": null,
      "outputs": []
    },
    {
      "cell_type": "markdown",
      "source": [
        "# 1. Add the two arrays\n"
      ],
      "metadata": {
        "id": "RjcPKYxdmvkS"
      }
    },
    {
      "cell_type": "code",
      "source": [
        "array_sum = x + y\n",
        "print(\"Sum of x and y:\\n\", array_sum)"
      ],
      "metadata": {
        "id": "OZ99zrzTmxrb"
      },
      "execution_count": null,
      "outputs": []
    },
    {
      "cell_type": "markdown",
      "source": [
        "# 2. Subtract the two arrays\n"
      ],
      "metadata": {
        "id": "MxtOdfMKnfrd"
      }
    },
    {
      "cell_type": "code",
      "source": [
        "array_diff = x - y\n",
        "print(\"\\nDifference of x and y:\\n\", array_diff)"
      ],
      "metadata": {
        "id": "C3ttQLZ4niJr"
      },
      "execution_count": null,
      "outputs": []
    },
    {
      "cell_type": "markdown",
      "source": [
        "# 3. Multiply the array with any integer (e.g., multiply by 3)\n"
      ],
      "metadata": {
        "id": "BV9Wwk0unjwr"
      }
    },
    {
      "cell_type": "code",
      "source": [
        "array_scaled = x * 3\n",
        "print(\"\\nArray x multiplied by 3:\\n\", array_scaled)"
      ],
      "metadata": {
        "id": "8f0jBcFinmUH"
      },
      "execution_count": null,
      "outputs": []
    },
    {
      "cell_type": "markdown",
      "source": [
        "# 4. Find the square of each element in the array\n"
      ],
      "metadata": {
        "id": "NvzmDbe4nns1"
      }
    },
    {
      "cell_type": "code",
      "source": [
        "array_squared = x ** 2\n",
        "print(\"\\nSquare of each element in x:\\n\", array_squared)"
      ],
      "metadata": {
        "id": "8GDjej1_np3Q"
      },
      "execution_count": null,
      "outputs": []
    },
    {
      "cell_type": "markdown",
      "source": [
        "# 5. Find the dot product between v(and)w ; x(and)v ; x(and)y.\n"
      ],
      "metadata": {
        "id": "vmKlXZnNnr3h"
      }
    },
    {
      "cell_type": "code",
      "source": [
        "dot_vw = np.dot(v, w)\n",
        "print(\"\\nDot product of v and w:\", dot_vw)\n",
        "dot_xv = np.dot(x, v)\n",
        "print(\"\\nDot product of x and v:\\n\", dot_xv)\n",
        "dot_xy = np.dot(x, y)\n",
        "print(\"\\nDot product of x and y:\\n\", dot_xy)"
      ],
      "metadata": {
        "id": "VOAtfE68nuA5"
      },
      "execution_count": null,
      "outputs": []
    },
    {
      "cell_type": "markdown",
      "source": [
        "# 6. Concatenate x and y along rows, and v and w along columns\n",
        "# along rows"
      ],
      "metadata": {
        "id": "xL1uYRdinvOu"
      }
    },
    {
      "cell_type": "code",
      "source": [
        "concat_xy_row = np.concatenate((x, y), axis=0)\n",
        "print(\"\\nConcatenation of x and y along rows:\\n\", concat_xy_row)\n"
      ],
      "metadata": {
        "id": "2_S9s_f9n0mJ"
      },
      "execution_count": null,
      "outputs": []
    },
    {
      "cell_type": "markdown",
      "source": [
        "# along columns\n"
      ],
      "metadata": {
        "id": "YB7a_b4Vn3QT"
      }
    },
    {
      "cell_type": "code",
      "source": [
        "concat_vw_col = np.vstack((v, w)).T  # Stack vertically and transpose for column concat\n",
        "print(\"\\nConcatenation of v and w along columns:\\n\", concat_vw_col)"
      ],
      "metadata": {
        "id": "CXl9a-Ien5lI"
      },
      "execution_count": null,
      "outputs": []
    },
    {
      "cell_type": "markdown",
      "source": [
        "# 7. Concatenate x and v: if you get an error, observe and explain why did you get the error?\n"
      ],
      "metadata": {
        "id": "aOYED13rn6Xn"
      }
    },
    {
      "cell_type": "code",
      "source": [
        "try:\n",
        "    concat_xv = np.concatenate((x, v), axis=0)  # Attempt to concatenate along rows\n",
        "    print(\"\\nConcatenation of x and v:\\n\", concat_xv)\n",
        "except ValueError as e:\n",
        "    print(\"\\nError during concatenation of x and v:\", e)"
      ],
      "metadata": {
        "id": "2hpIdatpn-vn"
      },
      "execution_count": null,
      "outputs": []
    },
    {
      "cell_type": "markdown",
      "source": [
        "# I got an error because v and x didn't have matching dimensions\n",
        "# Fixing the error by reshaping v to match x's dimensions"
      ],
      "metadata": {
        "id": "242JrChBpP2F"
      }
    },
    {
      "cell_type": "code",
      "source": [
        "v_reshaped = v[np.newaxis, :]  # Reshape v to (1, 2)\n",
        "concat_xv_fixed = np.concatenate((x, v_reshaped), axis=0)\n",
        "print(\"\\nConcatenation of x and reshaped v:\\n\", concat_xv_fixed)"
      ],
      "metadata": {
        "id": "Ffv18H98sIxo"
      },
      "execution_count": null,
      "outputs": []
    },
    {
      "cell_type": "markdown",
      "source": [
        "# Problem - 4: Matrix Operations:\n",
        "# • For the following arrays:\n",
        "# A = np.array([[3,4],[7,8]]) and B = np.array([[5,3],[2,1]]);\n",
        "# Prove following with Numpy:"
      ],
      "metadata": {
        "id": "4fi-DhAbsMPT"
      }
    },
    {
      "cell_type": "code",
      "source": [
        "import numpy as np"
      ],
      "metadata": {
        "id": "WHHdmL0_sOTQ"
      },
      "execution_count": null,
      "outputs": []
    },
    {
      "cell_type": "markdown",
      "source": [
        "# Given arrays\n"
      ],
      "metadata": {
        "id": "syMCPbFYsSqs"
      }
    },
    {
      "cell_type": "code",
      "source": [
        "A = np.array([[3, 4], [7, 8]])\n",
        "B = np.array([[5, 3], [2, 1]])"
      ],
      "metadata": {
        "id": "cLNi4XtGsUmQ"
      },
      "execution_count": null,
      "outputs": []
    },
    {
      "cell_type": "markdown",
      "source": [
        "# 1. Prove A.A⁻¹ = I (Identity Matrix)\n",
        "# Inverse of A"
      ],
      "metadata": {
        "id": "5LmlErR5sVSN"
      }
    },
    {
      "cell_type": "code",
      "source": [
        "A_inv = np.linalg.inv(A)"
      ],
      "metadata": {
        "id": "RnxpccVFsZfR"
      },
      "execution_count": null,
      "outputs": []
    },
    {
      "cell_type": "markdown",
      "source": [
        "# A . A⁻¹\n"
      ],
      "metadata": {
        "id": "D3Kh95TRsjGm"
      }
    },
    {
      "cell_type": "code",
      "source": [
        "result = np.dot(A, A_inv)\n",
        "print(\"A * A⁻¹:\\n\", result)"
      ],
      "metadata": {
        "id": "8AeWr7jNslxC"
      },
      "execution_count": null,
      "outputs": []
    },
    {
      "cell_type": "markdown",
      "source": [
        "# 2. Prove AB ≠ BA\n"
      ],
      "metadata": {
        "id": "7BWJcgL7soE0"
      }
    },
    {
      "cell_type": "code",
      "source": [
        "AB = np.dot(A, B)\n",
        "BA = np.dot(B, A)\n",
        "print(\"\\nAB:\\n\", AB)\n",
        "print(\"\\nBA:\\n\", BA)"
      ],
      "metadata": {
        "id": "dAftrn1fsqXD"
      },
      "execution_count": null,
      "outputs": []
    },
    {
      "cell_type": "markdown",
      "source": [
        "# Check if AB = BA\n"
      ],
      "metadata": {
        "id": "zJ04I1jwsvkW"
      }
    },
    {
      "cell_type": "code",
      "source": [
        "is_equal = np.array_equal(AB, BA)\n",
        "print(\"\\nIs AB equal to BA? \", is_equal)"
      ],
      "metadata": {
        "id": "3LMC9jEWtDBV"
      },
      "execution_count": null,
      "outputs": []
    },
    {
      "cell_type": "markdown",
      "source": [
        "# 3. Prove (AB)ᵀ = BᵀAᵀ\n",
        "\n",
        "# (AB)ᵀ"
      ],
      "metadata": {
        "id": "gd50DGg3tTb-"
      }
    },
    {
      "cell_type": "code",
      "source": [
        "AB_transpose = np.transpose(AB)\n"
      ],
      "metadata": {
        "id": "DZe1tkaxtVEC"
      },
      "execution_count": null,
      "outputs": []
    },
    {
      "cell_type": "markdown",
      "source": [
        "#Bᵀ and Aᵀ\n"
      ],
      "metadata": {
        "id": "cmatEyQztW7_"
      }
    },
    {
      "cell_type": "code",
      "source": [
        "BT = np.transpose(B)\n",
        "AT = np.transpose(A)"
      ],
      "metadata": {
        "id": "foKrreJdtYeI"
      },
      "execution_count": null,
      "outputs": []
    },
    {
      "cell_type": "markdown",
      "source": [
        "# BᵀAᵀ\n"
      ],
      "metadata": {
        "id": "Y06mzaj9tc84"
      }
    },
    {
      "cell_type": "code",
      "source": [
        "BT_AT = np.dot(BT, AT)\n",
        "print(\"\\n(AB)ᵀ:\\n\", AB_transpose)\n",
        "print(\"\\nBᵀAᵀ:\\n\", BT_AT)"
      ],
      "metadata": {
        "id": "T2WtRKD0teOm"
      },
      "execution_count": null,
      "outputs": []
    },
    {
      "cell_type": "markdown",
      "source": [
        "# Check if (AB)ᵀ = BᵀAᵀ\n"
      ],
      "metadata": {
        "id": "3FnrtgN8tro8"
      }
    },
    {
      "cell_type": "code",
      "source": [
        "is_transpose_equal = np.array_equal(AB_transpose, BT_AT)\n",
        "print(\"\\nIs (AB)ᵀ equal to BᵀAᵀ? \", is_transpose_equal)"
      ],
      "metadata": {
        "id": "CvOhXacmtuAa"
      },
      "execution_count": null,
      "outputs": []
    },
    {
      "cell_type": "markdown",
      "source": [
        "# Solve the following system of Linear equation using Inverse Methods.\n",
        "# 2x − 3y + z = −1\n",
        "# x − y + 2z = −3\n",
        "# 3x + y − z = 9\n",
        "\n",
        "# {Hint: First use Numpy array to represent the equation in Matrix form. Then Solve for: AX = B}"
      ],
      "metadata": {
        "id": "TDH1j_FduHgC"
      }
    },
    {
      "cell_type": "code",
      "source": [
        "import numpy as np\n",
        "\n",
        "A = np.array([[2, -3, 1],\n",
        "              [1, -1, 2],\n",
        "              [3, 1, -1]])\n",
        "\n",
        "B = np.array([-1, -3, 9])\n"
      ],
      "metadata": {
        "id": "XR-upOx5uMN0"
      },
      "execution_count": null,
      "outputs": []
    },
    {
      "cell_type": "markdown",
      "source": [
        "# Step 1: Determinant of A\n"
      ],
      "metadata": {
        "id": "d4RSDfNhuNvr"
      }
    },
    {
      "cell_type": "code",
      "source": [
        "det_A = (A[0, 0] * (A[1, 1] * A[2, 2] - A[1, 2] * A[2, 1]) -\n",
        "         A[0, 1] * (A[1, 0] * A[2, 2] - A[1, 2] * A[2, 0]) +\n",
        "         A[0, 2] * (A[1, 0] * A[2, 1] - A[1, 1] * A[2, 0]))\n",
        "\n",
        "print(\"Determinant of A:\", det_A)\n"
      ],
      "metadata": {
        "id": "2uqx1QI1uQA1"
      },
      "execution_count": null,
      "outputs": []
    },
    {
      "cell_type": "markdown",
      "source": [
        "# Step 2: Cofactor matrix\n"
      ],
      "metadata": {
        "id": "ivbhv79MuSvL"
      }
    },
    {
      "cell_type": "code",
      "source": [
        "cofactor_matrix = np.array([\n",
        "    [(A[1, 1] * A[2, 2] - A[1, 2] * A[2, 1]), -(A[1, 0] * A[2, 2] - A[1, 2] * A[2, 0]), (A[1, 0] * A[2, 1] - A[1, 1] * A[2, 0])],\n",
        "    [-(A[0, 1] * A[2, 2] - A[0, 2] * A[2, 1]), (A[0, 0] * A[2, 2] - A[0, 2] * A[2, 0]), -(A[0, 0] * A[2, 1] - A[0, 1] * A[2, 0])],\n",
        "    [(A[0, 1] * A[1, 2] - A[0, 2] * A[1, 1]), -(A[0, 0] * A[1, 2] - A[0, 2] * A[1, 0]), (A[0, 0] * A[1, 1] - A[0, 1] * A[1, 0])]\n",
        "])"
      ],
      "metadata": {
        "id": "wLwX0BA3uUV5"
      },
      "execution_count": null,
      "outputs": []
    },
    {
      "cell_type": "markdown",
      "source": [
        "# Step 3: Adjoint of A (transpose of cofactor matrix)\n"
      ],
      "metadata": {
        "id": "bGT28ENouWcv"
      }
    },
    {
      "cell_type": "code",
      "source": [
        "adjoint_A = cofactor_matrix.T\n"
      ],
      "metadata": {
        "id": "wTDwpDtbuYL2"
      },
      "execution_count": null,
      "outputs": []
    },
    {
      "cell_type": "markdown",
      "source": [
        "# Step 4: Inverse of A\n"
      ],
      "metadata": {
        "id": "c6AT1NixuZxk"
      }
    },
    {
      "cell_type": "code",
      "source": [
        "inverse_A = adjoint_A / det_A\n",
        "print(\"\\nInverse of A:\\n\", inverse_A)"
      ],
      "metadata": {
        "id": "z9S60psJucFF"
      },
      "execution_count": null,
      "outputs": []
    },
    {
      "cell_type": "markdown",
      "source": [
        "# Step 5: X = A⁻¹B\n"
      ],
      "metadata": {
        "id": "DBakQUKcudZI"
      }
    },
    {
      "cell_type": "code",
      "source": [
        "X = np.dot(inverse_A, B)\n",
        "print(\"\\nSolution (x, y, z):\", X)"
      ],
      "metadata": {
        "id": "nU_QJr-Nue1P"
      },
      "execution_count": null,
      "outputs": []
    },
    {
      "cell_type": "markdown",
      "source": [
        "# Now: solve the above equation using np.linalg.inv function.{Explore more about ”linalg” function of Numpy}\n"
      ],
      "metadata": {
        "id": "RMof-UDeuiF6"
      }
    },
    {
      "cell_type": "code",
      "source": [
        "import numpy as np\n",
        "\n",
        "A = np.array([[2, -3, 1],\n",
        "              [1, -1, 2],\n",
        "              [3, 1, -1]])\n",
        "\n",
        "B = np.array([-1, -3, 9])"
      ],
      "metadata": {
        "id": "TrUrWQqWulcV"
      },
      "execution_count": null,
      "outputs": []
    },
    {
      "cell_type": "markdown",
      "source": [
        "# Inverse of A using np.linalg.inv\n"
      ],
      "metadata": {
        "id": "AX8P4teIumx3"
      }
    },
    {
      "cell_type": "code",
      "source": [
        "A_inv = np.linalg.inv(A)\n"
      ],
      "metadata": {
        "id": "R2mDxNgzupGf"
      },
      "execution_count": null,
      "outputs": []
    },
    {
      "cell_type": "markdown",
      "source": [
        "# X = A⁻¹B\n"
      ],
      "metadata": {
        "id": "kveWBoE3uq9Z"
      }
    },
    {
      "cell_type": "code",
      "source": [
        "X = np.dot(A_inv, B)\n",
        "\n",
        "print(\"Inverse of A:\\n\", A_inv)\n",
        "print(\"\\nSolution (x, y, z):\", X)"
      ],
      "metadata": {
        "id": "W8CPgmoZutZA"
      },
      "execution_count": null,
      "outputs": []
    },
    {
      "cell_type": "markdown",
      "source": [
        "# 4.2 Experiment: How Fast is Numpy?\n",
        "# In this exercise, you will compare the performance and implementation of operations using plain Python lists (arrays) and NumPy arrays.\n",
        "#Follow the instructions:"
      ],
      "metadata": {
        "id": "aijE-Y5euxVX"
      }
    },
    {
      "cell_type": "code",
      "source": [
        "import time\n"
      ],
      "metadata": {
        "id": "TOQqAhvCuy5j"
      },
      "execution_count": null,
      "outputs": []
    },
    {
      "cell_type": "markdown",
      "source": [
        "# 1. Element-wise Addition:\n"
      ],
      "metadata": {
        "id": "1uhJDHeeu0Lf"
      }
    },
    {
      "cell_type": "code",
      "source": [
        "print(\"1. Element-wise Addition\")\n"
      ],
      "metadata": {
        "id": "m8ROklSMu2QM"
      },
      "execution_count": null,
      "outputs": []
    },
    {
      "cell_type": "markdown",
      "source": [
        "# Using Python Lists, perform element-wise addition of two lists of size 1, 000, 000. Measure and Print the time taken for this operation.\n"
      ],
      "metadata": {
        "id": "wl-obMkfu5pd"
      }
    },
    {
      "cell_type": "code",
      "source": [
        "list1 = [i for i in range(1_000_000)]\n",
        "list2 = [i for i in range(1_000_000)]\n",
        "start_time = time.time()\n",
        "result_list = [list1[i] + list2[i] for i in range(len(list1))]\n",
        "end_time = time.time()\n",
        "print(f\"Time taken by Python Lists: {end_time - start_time:.5f} seconds\")"
      ],
      "metadata": {
        "id": "FjOS-SBJu7-S"
      },
      "execution_count": null,
      "outputs": []
    },
    {
      "cell_type": "markdown",
      "source": [
        "# Using Numpy Arrays, Repeat the calculation and measure and print the time taken for this operation.\n"
      ],
      "metadata": {
        "id": "pYmyogUWu_sG"
      }
    },
    {
      "cell_type": "code",
      "source": [
        "array1 = np.array(list1)\n",
        "array2 = np.array(list2)\n",
        "\n",
        "start_time = time.time()\n",
        "result_array = array1 + array2\n",
        "end_time = time.time()\n",
        "print(f\"Time taken by numpy: {end_time - start_time:.5f} seconds\\n\")"
      ],
      "metadata": {
        "id": "Z9Bn3UXHvCE0"
      },
      "execution_count": null,
      "outputs": []
    },
    {
      "cell_type": "markdown",
      "source": [
        "# 2. Element-wise Multiplication\n"
      ],
      "metadata": {
        "id": "R48LEb6nvI1z"
      }
    },
    {
      "cell_type": "code",
      "source": [
        "print(\"2. Element-wise Multiplication\")\n"
      ],
      "metadata": {
        "id": "0TPNjyNUvKbz"
      },
      "execution_count": null,
      "outputs": []
    },
    {
      "cell_type": "markdown",
      "source": [
        "# Using Python Lists, perform element-wise multiplication of two lists of size 1, 000, 000. Measure and Print the time taken for this operation.\n"
      ],
      "metadata": {
        "id": "6lj885UBvMGd"
      }
    },
    {
      "cell_type": "code",
      "source": [
        "start_time = time.time()\n",
        "result_array = array1 * array2\n",
        "end_time = time.time()\n",
        "print(f\"Time taken by numpy: {end_time - start_time:.5f} seconds\\n\")\n"
      ],
      "metadata": {
        "id": "E1Wpu5cAvOZ_"
      },
      "execution_count": null,
      "outputs": []
    },
    {
      "cell_type": "markdown",
      "source": [
        "# 3. Dot Product\n"
      ],
      "metadata": {
        "id": "_15c_wogvQR9"
      }
    },
    {
      "cell_type": "code",
      "source": [
        "print(\"3. Dot Product\")\n"
      ],
      "metadata": {
        "id": "RD9v_LcDvRmP"
      },
      "execution_count": null,
      "outputs": []
    },
    {
      "cell_type": "markdown",
      "source": [
        "# Using Python Lists, compute the dot product of two lists of size 1, 000, 000. Measure and Print the time taken for this operation.\n"
      ],
      "metadata": {
        "id": "DivA2MQMvU3L"
      }
    },
    {
      "cell_type": "code",
      "source": [
        "start_time = time.time()\n",
        "dot_product_list = sum(list1[i] * list2[i] for i in range(len(list1)))\n",
        "end_time = time.time()\n",
        "print(f\"Time taken by Python Lists: {end_time - start_time:.5f} seconds\")"
      ],
      "metadata": {
        "id": "E_PrRfNivYAv"
      },
      "execution_count": null,
      "outputs": []
    },
    {
      "cell_type": "markdown",
      "source": [
        "# Using Numpy Arrays, Repeat the calculation and measure and print the time taken for this operation.\n"
      ],
      "metadata": {
        "id": "N2ze4Vi6vZW8"
      }
    },
    {
      "cell_type": "code",
      "source": [
        "start_time = time.time()\n",
        "dot_product_array = np.dot(array1, array2)\n",
        "end_time = time.time()\n",
        "print(f\"Time taken by numpy: {end_time - start_time:.5f} seconds\\n\")"
      ],
      "metadata": {
        "id": "ahECRdMavbW8"
      },
      "execution_count": null,
      "outputs": []
    },
    {
      "cell_type": "markdown",
      "source": [
        "# 4. Matrix Multiplication\n"
      ],
      "metadata": {
        "id": "c0PDCXipveZ1"
      }
    },
    {
      "cell_type": "code",
      "source": [
        "print(\"4. Matrix Multiplication\")\n",
        "size = 100"
      ],
      "metadata": {
        "id": "qy_VR_ZqvhYB"
      },
      "execution_count": null,
      "outputs": []
    },
    {
      "cell_type": "markdown",
      "source": [
        "# Using Python lists, perform matrix multiplication of two matrices of size 1000x1000. Measure and print the time taken for this operation.\n"
      ],
      "metadata": {
        "id": "P5oSuN6ivjcd"
      }
    },
    {
      "cell_type": "code",
      "source": [
        "matrix1 = [[i for i in range(size)] for _ in range(size)]\n",
        "matrix2 = [[j for j in range(size)] for _ in range(size)]\n",
        "\n",
        "start_time = time.time()\n",
        "result_matrix = [[sum(a * b for a, b in zip(row, col)) for col in zip(*matrix2)] for row in matrix1]\n",
        "end_time = time.time()\n",
        "print(f\"Time taken by Python Lists: {end_time - start_time:.5f} seconds\")"
      ],
      "metadata": {
        "id": "7SjMWnsUvk_F"
      },
      "execution_count": null,
      "outputs": []
    },
    {
      "cell_type": "markdown",
      "source": [
        "# Using NumPy arrays, perform matrix multiplication of two matrices of size 1000x1000. Measure and print the time taken for this operation.\n"
      ],
      "metadata": {
        "id": "-3hrtsghvrov"
      }
    },
    {
      "cell_type": "code",
      "source": [
        "matrix1_np = np.array(matrix1)\n",
        "matrix2_np = np.array(matrix2)\n",
        "\n",
        "start_time = time.time()\n",
        "result_matrix_np = np.dot(matrix1_np, matrix2_np)\n",
        "end_time = time.time()\n",
        "print(f\"Time taken by numpy: {end_time - start_time:.5f} seconds\")"
      ],
      "metadata": {
        "id": "sCbaF36hvz1k"
      },
      "execution_count": null,
      "outputs": []
    }
  ]
}